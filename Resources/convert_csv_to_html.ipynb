{
 "cells": [
  {
   "cell_type": "code",
   "execution_count": 1,
   "id": "a998a008",
   "metadata": {},
   "outputs": [],
   "source": [
    "# Dependencies and Setup\n",
    "import pandas as pd\n",
    "\n",
    "# Output File (html)\n",
    "output_data_file = \"cities.html\""
   ]
  },
  {
   "cell_type": "code",
   "execution_count": 2,
   "id": "8137e438",
   "metadata": {},
   "outputs": [],
   "source": [
    "# Read in cities df\n",
    "cities_df = pd.read_csv('cities.csv',index_col=0)"
   ]
  },
  {
   "cell_type": "code",
   "execution_count": 3,
   "id": "a8b348fc",
   "metadata": {},
   "outputs": [],
   "source": [
    "# Convert df to html with bootstrap classes\n",
    "cities_html = cities_df.to_html(classes=[\"table-bordered\", \"table-responsive\", \"table-striped\"])"
   ]
  },
  {
   "cell_type": "code",
   "execution_count": 4,
   "id": "494c795b",
   "metadata": {},
   "outputs": [],
   "source": [
    "# write html to file\n",
    "text_file = open(output_data_file, \"w\")\n",
    "text_file.write(cities_html)\n",
    "text_file.close()"
   ]
  },
  {
   "cell_type": "code",
   "execution_count": null,
   "id": "3d30322b",
   "metadata": {},
   "outputs": [],
   "source": []
  }
 ],
 "metadata": {
  "kernelspec": {
   "display_name": "Python [conda env:PythonData2] *",
   "language": "python",
   "name": "conda-env-PythonData2-py"
  },
  "language_info": {
   "codemirror_mode": {
    "name": "ipython",
    "version": 3
   },
   "file_extension": ".py",
   "mimetype": "text/x-python",
   "name": "python",
   "nbconvert_exporter": "python",
   "pygments_lexer": "ipython3",
   "version": "3.7.7"
  }
 },
 "nbformat": 4,
 "nbformat_minor": 5
}
